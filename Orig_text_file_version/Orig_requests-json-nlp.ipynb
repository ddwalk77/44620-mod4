{
 "cells": [
  {
   "cell_type": "markdown",
   "metadata": {},
   "source": [
    "https://github.com/ddwalk77/44620-mod4"
   ]
  },
  {
   "cell_type": "markdown",
   "metadata": {},
   "source": [
    "# Web Mining and Applied NLP (44-620)\n",
    "\n",
    "## Requests, JSON, and NLP\n",
    "\n",
    "### Student Name: DeeDee Walker\n",
    "\n",
    "Perform the tasks described in the Markdown cells below.  When you have completed the assignment make sure your code cells have all been run (and have output beneath them) and ensure you have committed and pushed ALL of your changes to your assignment repository.\n",
    "\n",
    "Make sure you have [installed spaCy and its pipeline](https://spacy.io/usage#quickstart) and [spaCyTextBlob](https://spacy.io/universe/project/spacy-textblob)\n",
    "\n",
    "Every question that requires you to write code will have a code cell underneath it; you may either write your entire solution in that cell or write it in a python file (`.py`), then import and run the appropriate code to answer the question.\n",
    "\n",
    "This assignment requires that you write additional files (either JSON or pickle files); make sure to submit those files in your repository as well."
   ]
  },
  {
   "cell_type": "markdown",
   "metadata": {},
   "source": [
    "# Question 1"
   ]
  },
  {
   "cell_type": "markdown",
   "metadata": {},
   "source": [
    "1. The following code accesses the [lyrics.ovh](https://lyricsovh.docs.apiary.io/#reference/0/lyrics-of-a-song/search) public api, searches for the lyrics of a song, and stores it in a dictionary object.  Write the resulting json to a file (either a JSON file or a pickle file; you choose). You will read in the contents of this file for future questions so we do not need to frequently access the API."
   ]
  },
  {
   "cell_type": "code",
   "execution_count": 1,
   "metadata": {},
   "outputs": [
    {
     "name": "stdout",
     "output_type": "stream",
     "text": [
      "Fare you well my honey\n",
      "Fare you well my only true one\n",
      "All the birds that were singing\n",
      "Have flown except you alone\n",
      "\n",
      "Goin to leave this Broke-down Palace\n",
      "On my hands and my knees I will roll roll roll\n",
      "Make myself a bed by the waterside\n",
      "In my time - in my time - I will roll roll roll\n",
      "\n",
      "In a bed, in a bed\n",
      "by the waterside I will lay my head\n",
      "Listen to the river sing sweet songs\n",
      "to rock my soul\n",
      "\n",
      "River gonna take me\n",
      "Sing me sweet and sleepy\n",
      "Sing me sweet and sleepy\n",
      "all the way back home\n",
      "It's a far gone lullaby\n",
      "sung many years ago\n",
      "Mama, Mama, many worlds I've come\n",
      "since I first left home\n",
      "\n",
      "Goin home, goin home\n",
      "by the waterside I will rest my bones\n",
      "Listen to the river sing sweet songs\n",
      "to rock my soul\n",
      "\n",
      "Goin to plant a weeping willow\n",
      "On the banks green edge it will grow grow grow\n",
      "Sing a lullaby beside the water\n",
      "Lovers come and go - the river roll roll roll\n",
      "\n",
      "Fare you well, fare you well\n",
      "I love you more than words can tell\n",
      "Listen to the river sing sweet songs\n",
      "to rock my soul\n"
     ]
    }
   ],
   "source": [
    "import requests\n",
    "import json\n",
    "import os\n",
    "import xmltodict\n",
    "\n",
    "response_body = requests.get('http://api.chartlyrics.com/apiv1.asmx/SearchLyricDirect?artist=grateful%20dead&song=brokedown%20palace').text\n",
    "response_body = xmltodict.parse(response_body)\n",
    "json_data = json.dumps(response_body)\n",
    "result = json.loads(json_data)\n",
    "\n",
    "print(result['GetLyricResult']['Lyric'])\n",
    "if(os.path.exists('lyrics.txt')):\n",
    "    os.remove('lyrics.txt')\n",
    "with open('lyrics.txt', 'x') as f:\n",
    "    f.write(result['GetLyricResult']['Lyric'])"
   ]
  },
  {
   "cell_type": "markdown",
   "metadata": {},
   "source": [
    "# Question 2"
   ]
  },
  {
   "cell_type": "markdown",
   "metadata": {},
   "source": [
    "2. Read in the contents of your file.  Print the lyrics of the song (not the entire dictionary!) and use spaCyTextBlob to perform sentiment analysis on the lyrics.  Print the polarity score of the sentiment analysis.  Given that the range of the polarity score is `[-1.0,1.0]` which corresponds to how positive or negative the text in question is, do you think the lyrics have a more positive or negative connotaion?  Answer this question in a comment in your code cell."
   ]
  },
  {
   "cell_type": "code",
   "execution_count": 2,
   "metadata": {},
   "outputs": [
    {
     "name": "stdout",
     "output_type": "stream",
     "text": [
      "Polarity:  0.265625\n"
     ]
    }
   ],
   "source": [
    "import spacy\n",
    "from spacytextblob.spacytextblob import SpacyTextBlob\n",
    "\n",
    "with open('lyrics.txt') as f:\n",
    "    contents = f.read()\n",
    "\n",
    "nlp = spacy.load('en_core_web_sm')\n",
    "nlp.add_pipe(\"spacytextblob\")\n",
    "doc = nlp(contents)\n",
    "print(\"Polarity: \", doc._.blob.polarity)"
   ]
  },
  {
   "cell_type": "markdown",
   "metadata": {},
   "source": [
    "##### The polarity leans to a more positive connotation. Based on the words and the actual feel of the song, I would say this is correct."
   ]
  },
  {
   "cell_type": "markdown",
   "metadata": {},
   "source": [
    "# Question 3"
   ]
  },
  {
   "cell_type": "markdown",
   "metadata": {},
   "source": [
    "3. Write a function that takes an artist, song, and filename, accesses the lyrics.ovh api to get the song lyrics, and writes the results to the specified filename.  Test this function by getting the lyrics to any four songs of your choice and storing them in different files."
   ]
  },
  {
   "cell_type": "code",
   "execution_count": 3,
   "metadata": {},
   "outputs": [
    {
     "name": "stdin",
     "output_type": "stream",
     "text": [
      "Enter artist name Van Morrison\n",
      "Enter song name Into the Mystic\n",
      "Enter artist name Led Zepplin\n",
      "Enter song name Tangerine\n",
      "Enter artist name Brandi Carlile\n",
      "Enter song name The Story\n",
      "Enter artist name Tom Petty\n",
      "Enter song name Wildflowers\n"
     ]
    }
   ],
   "source": [
    "def get_lyrics():\n",
    "    import requests\n",
    "    import json\n",
    "    import xmltodict\n",
    "    import os\n",
    "    site = 'http://api.chartlyrics.com/apiv1.asmx/SearchLyricDirect?'\n",
    "    artist = 'artist=' + input(\"Enter artist name\")\n",
    "    artist.strip\n",
    "    artist = artist.replace(\" \",\"%20\")\n",
    "    song = 'song=' + input(\"Enter song name\")\n",
    "    song.strip\n",
    "    song = song.replace(\" \",\"%20\")\n",
    "    link = site + artist + '&' + song\n",
    "    lyric_body = requests.get(link).text\n",
    "    lyric_body = xmltodict.parse(lyric_body)\n",
    "    json_lyrics = json.dumps(lyric_body)\n",
    "    lyric_words = json.loads(json_lyrics)\n",
    "    filename = song + '.txt'\n",
    "    if(os.path.exists(filename)):\n",
    "            os.remove(filename)\n",
    "    try:\n",
    "        with open(filename, 'x') as f:\n",
    "            f.write(lyric_words['GetLyricResult']['Lyric'])\n",
    "    except TypeError:\n",
    "        print(\"Song &/or Artist Lyrics doesn't exist, isn't available, or is misspelled\")\n",
    "        get_lyrics()\n",
    "\n",
    "for i in range(4):\n",
    "    get_lyrics()"
   ]
  },
  {
   "cell_type": "markdown",
   "metadata": {},
   "source": [
    "# Question 4"
   ]
  },
  {
   "cell_type": "markdown",
   "metadata": {},
   "source": [
    "4. Write a function that takes the name of a file that contains song lyrics, loads the file, performs sentiment analysis, and returns the polarity score.  Use this function to print the polarity scores (with the name of the song) of the three files you created in question 3.  Does the reported polarity match your understanding of the song's lyrics? Why or why not do you think that might be?  Answer the questions in either a comment in the code cell or a markdown cell under the code cell."
   ]
  },
  {
   "cell_type": "code",
   "execution_count": 11,
   "metadata": {},
   "outputs": [
    {
     "name": "stdout",
     "output_type": "stream",
     "text": [
      "The polarity of  song=Into%20the%20Mystic.txt is :  0.2125\n",
      "The polarity of  song=Tangerine.txt is :  0.2375\n",
      "The polarity of  song=The%20Story.txt is :  0.1025\n",
      "The polarity of  song=Wildflowers.txt is :  0.2776515151515151\n"
     ]
    }
   ],
   "source": [
    "import glob\n",
    "import spacy\n",
    "from spacytextblob.spacytextblob import SpacyTextBlob\n",
    "\n",
    "filenameglob = glob.glob('**/*.txt', recursive = True)\n",
    "\n",
    "def get_polarity():\n",
    "    if filenameglob:\n",
    "        with open(filenameglob[i], \"r\") as f:\n",
    "            song_lyrics = f.read()\n",
    "            nlp = spacy.load('en_core_web_sm')\n",
    "            nlp.add_pipe(\"spacytextblob\")\n",
    "            doc = nlp(song_lyrics)\n",
    "            print(\"The polarity of \", filenameglob[i], \"is : \", doc._.blob.polarity)\n",
    "    else:\n",
    "        print (\"No files found!\")\n",
    "\n",
    "for i in range(1, len(filenameglob)):\n",
    "    get_polarity()"
   ]
  },
  {
   "cell_type": "markdown",
   "metadata": {},
   "source": [
    "##### Into the Mystic by Van Morrison came back with polarity of .2125. I would agree with this but am surprised it wasn't lower because of the words cry, soul, spirit, and fear. I expected this to bring it lower. \n",
    "\n",
    "##### Tangerine by Led Zepplin has a polarity of .2375. Again, I would expect words like pain and grey to bring this lower but I guess the positive words help bring it up. \n",
    "\n",
    "##### The Story by Brandi Carlile rates the lowest out of all the songs. I don;t find the song particularly more negative so it's an interesting result. I'd guess it's because there aren't lots of strong positive words to boost it up. The words are all fairly neutral. \n",
    "\n",
    "##### Wildflowers by Tom Petty rates the highest polarity of all the songs. It would be intersting to see how much it came up if the words trouble, worry, kill, & run were removed."
   ]
  }
 ],
 "metadata": {
  "kernelspec": {
   "display_name": "Python 3 (ipykernel)",
   "language": "python",
   "name": "python3"
  },
  "language_info": {
   "codemirror_mode": {
    "name": "ipython",
    "version": 3
   },
   "file_extension": ".py",
   "mimetype": "text/x-python",
   "name": "python",
   "nbconvert_exporter": "python",
   "pygments_lexer": "ipython3",
   "version": "3.9.12"
  },
  "vscode": {
   "interpreter": {
    "hash": "839916d0258dd24957cdaad1db0e3137bce5d777fa18d0641125733ebb535fe5"
   }
  }
 },
 "nbformat": 4,
 "nbformat_minor": 4
}
